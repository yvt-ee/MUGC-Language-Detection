{
 "cells": [
  {
   "cell_type": "markdown",
   "id": "b3a7b501",
   "metadata": {},
   "source": [
    "## Language Detection Model"
   ]
  },
  {
   "cell_type": "markdown",
   "id": "44f4868d",
   "metadata": {},
   "source": [
    "https://medium.com/@naman884/how-to-deploy-ml-models-on-aws-ecs-using-docker-and-fastapi-9acdd3619348"
   ]
  },
  {
   "cell_type": "markdown",
   "id": "f8d6b713",
   "metadata": {},
   "source": [
    "### Importing Packages"
   ]
  },
  {
   "cell_type": "code",
   "execution_count": 2,
   "id": "ed79b052",
   "metadata": {},
   "outputs": [
    {
     "name": "stderr",
     "output_type": "stream",
     "text": [
      "/shared/centos7/anaconda3/2021.05/lib/python3.8/site-packages/scipy/__init__.py:138: UserWarning: A NumPy version >=1.16.5 and <1.23.0 is required for this version of SciPy (detected version 1.24.3)\n",
      "  warnings.warn(f\"A NumPy version >={np_minversion} and <{np_maxversion} is required for this version of \"\n",
      "[nltk_data] Downloading package stopwords to\n",
      "[nltk_data]     /home/rawal.an/nltk_data...\n",
      "[nltk_data]   Package stopwords is already up-to-date!\n"
     ]
    }
   ],
   "source": [
    "import re\n",
    "import pickle\n",
    "import numpy as np\n",
    "import pandas as pd\n",
    "import seaborn as sns\n",
    "import matplotlib.pyplot as plt\n",
    "\n",
    "from sklearn.pipeline import Pipeline\n",
    "from sklearn.linear_model import SGDClassifier\n",
    "from sklearn.preprocessing import LabelEncoder\n",
    "from sklearn.model_selection import train_test_split, cross_val_predict, cross_val_score\n",
    "from sklearn.feature_extraction.text import TfidfVectorizer\n",
    "from sklearn.metrics import accuracy_score, confusion_matrix, classification_report\n",
    "import pandas as pd\n",
    "\n",
    "import nltk\n",
    "from nltk.tokenize import word_tokenize,sent_tokenize\n",
    "#remove stop-words\n",
    "from nltk.corpus import stopwords # library\n",
    "nltk.download('stopwords')\n",
    "all_stopwords = set(stopwords.words('english')) # set the language\n",
    "from typing import List\n",
    "\n",
    "import warnings\n",
    "warnings.simplefilter(\"ignore\")"
   ]
  },
  {
   "cell_type": "markdown",
   "id": "0ad13363",
   "metadata": {},
   "source": [
    "### Model Building"
   ]
  },
  {
   "cell_type": "markdown",
   "id": "4098bf17",
   "metadata": {},
   "source": [
    "Simple and quick way to develop the model because our goal is to understand, how to deploy the model on AWS ECS."
   ]
  },
  {
   "cell_type": "code",
   "execution_count": 7,
   "id": "bb3a6515",
   "metadata": {},
   "outputs": [],
   "source": [
    "# Loading the dataset\n",
    "data = pd.read_csv(\"abstracts_paraphrased_60.csv\")"
   ]
  },
  {
   "cell_type": "code",
   "execution_count": 9,
   "id": "667fd27e-565c-4e04-a5c3-02013398a83a",
   "metadata": {},
   "outputs": [],
   "source": [
    "data = data.rename(columns={'abstract':'text'})"
   ]
  },
  {
   "cell_type": "code",
   "execution_count": 10,
   "id": "8096af16",
   "metadata": {},
   "outputs": [
    {
     "data": {
      "text/html": [
       "<div>\n",
       "<style scoped>\n",
       "    .dataframe tbody tr th:only-of-type {\n",
       "        vertical-align: middle;\n",
       "    }\n",
       "\n",
       "    .dataframe tbody tr th {\n",
       "        vertical-align: top;\n",
       "    }\n",
       "\n",
       "    .dataframe thead th {\n",
       "        text-align: right;\n",
       "    }\n",
       "</style>\n",
       "<table border=\"1\" class=\"dataframe\">\n",
       "  <thead>\n",
       "    <tr style=\"text-align: right;\">\n",
       "      <th></th>\n",
       "      <th>Unnamed: 0</th>\n",
       "      <th>title</th>\n",
       "      <th>text</th>\n",
       "      <th>label</th>\n",
       "    </tr>\n",
       "  </thead>\n",
       "  <tbody>\n",
       "    <tr>\n",
       "      <th>0</th>\n",
       "      <td>0</td>\n",
       "      <td>Genomic stress and impaired DNA repair in Alzh...</td>\n",
       "      <td>Alzheimer disease (AD) is the most prominent f...</td>\n",
       "      <td>0</td>\n",
       "    </tr>\n",
       "    <tr>\n",
       "      <th>1</th>\n",
       "      <td>1</td>\n",
       "      <td>Exploring Psychosis in Neurodegenerative Demen...</td>\n",
       "      <td>The following commentary discusses a review by...</td>\n",
       "      <td>0</td>\n",
       "    </tr>\n",
       "    <tr>\n",
       "      <th>2</th>\n",
       "      <td>2</td>\n",
       "      <td>Examining a Preclinical Alzheimer's Cognitive ...</td>\n",
       "      <td>The preclinical Alzheimer's cognitive composit...</td>\n",
       "      <td>0</td>\n",
       "    </tr>\n",
       "    <tr>\n",
       "      <th>3</th>\n",
       "      <td>3</td>\n",
       "      <td>Gene Association Study of the Urokinase Plasmi...</td>\n",
       "      <td>The role of the innate immune system has long ...</td>\n",
       "      <td>0</td>\n",
       "    </tr>\n",
       "    <tr>\n",
       "      <th>4</th>\n",
       "      <td>4</td>\n",
       "      <td>Psychosis in Neurodegenerative Dementias: A Sy...</td>\n",
       "      <td>Psychosis, characterized by delusions and/or h...</td>\n",
       "      <td>0</td>\n",
       "    </tr>\n",
       "  </tbody>\n",
       "</table>\n",
       "</div>"
      ],
      "text/plain": [
       "   Unnamed: 0                                              title  \\\n",
       "0           0  Genomic stress and impaired DNA repair in Alzh...   \n",
       "1           1  Exploring Psychosis in Neurodegenerative Demen...   \n",
       "2           2  Examining a Preclinical Alzheimer's Cognitive ...   \n",
       "3           3  Gene Association Study of the Urokinase Plasmi...   \n",
       "4           4  Psychosis in Neurodegenerative Dementias: A Sy...   \n",
       "\n",
       "                                                text  label  \n",
       "0  Alzheimer disease (AD) is the most prominent f...      0  \n",
       "1  The following commentary discusses a review by...      0  \n",
       "2  The preclinical Alzheimer's cognitive composit...      0  \n",
       "3  The role of the innate immune system has long ...      0  \n",
       "4  Psychosis, characterized by delusions and/or h...      0  "
      ]
     },
     "execution_count": 10,
     "metadata": {},
     "output_type": "execute_result"
    }
   ],
   "source": [
    "data.head()"
   ]
  },
  {
   "cell_type": "code",
   "execution_count": 11,
   "id": "cf256bf2",
   "metadata": {},
   "outputs": [],
   "source": [
    "def preprocess_text(text: str) -> str:\n",
    "    # Replace \"<br /><br />|\\.\" with space, and \"\\n\" with space\n",
    "    cleaned_text = re.sub(r\"<br /><br />|\\.\", \" \", text)\n",
    "    cleaned_text = re.sub(r\"\\n\", \" \", cleaned_text)\n",
    "\n",
    "    cleaned_text = re.sub(r\"[.]\", \"\", cleaned_text.lower()) \n",
    "\n",
    "    # Split the text into lines based on HTML tag for line break or period\n",
    "    lines = re.split(r\"<br /><br />|\\.\", cleaned_text)\n",
    "\n",
    "    # Split each line into words using whitespace\n",
    "    tokens = [word for line in lines for word in line.split(\" \")]\n",
    "\n",
    "    # Lowercase and remove non-alphanumeric characters from tokens for normalization\n",
    "    normalized_tokens = [re.sub(r\"\\W+\", \"\", token.lower()) for token in tokens]\n",
    "\n",
    "    # Join the normalized tokens, excluding stopwords and single-character tokens\n",
    "    result = \" \".join([\n",
    "        token\n",
    "        for token in normalized_tokens\n",
    "        if token and token not in all_stopwords and len(token) > 1\n",
    "    ])\n",
    "\n",
    "    return result\n"
   ]
  },
  {
   "cell_type": "code",
   "execution_count": 12,
   "id": "e896ecd6",
   "metadata": {},
   "outputs": [],
   "source": [
    "data['text'] = data['text'].apply(preprocess_text)"
   ]
  },
  {
   "cell_type": "code",
   "execution_count": 16,
   "id": "f3b92fde",
   "metadata": {},
   "outputs": [],
   "source": [
    "X = data[\"text\"]\n",
    "y = data[\"label\"]"
   ]
  },
  {
   "cell_type": "code",
   "execution_count": 17,
   "id": "5ab75031",
   "metadata": {},
   "outputs": [],
   "source": [
    "le = LabelEncoder()\n",
    "y = le.fit_transform(y)"
   ]
  },
  {
   "cell_type": "code",
   "execution_count": 18,
   "id": "f06839a6",
   "metadata": {},
   "outputs": [
    {
     "data": {
      "text/plain": [
       "array([0, 1])"
      ]
     },
     "execution_count": 18,
     "metadata": {},
     "output_type": "execute_result"
    }
   ],
   "source": [
    "le.classes_"
   ]
  },
  {
   "cell_type": "code",
   "execution_count": 19,
   "id": "b21ac23e",
   "metadata": {},
   "outputs": [],
   "source": [
    "tfidf_vectorizer = TfidfVectorizer()\n",
    "X = tfidf_vectorizer.fit_transform(X)"
   ]
  },
  {
   "cell_type": "markdown",
   "id": "d6277fa9",
   "metadata": {},
   "source": [
    "<!-- model evaluation -->"
   ]
  },
  {
   "cell_type": "code",
   "execution_count": 20,
   "id": "27118cbe",
   "metadata": {},
   "outputs": [],
   "source": [
    "sgd_classifier = SGDClassifier()\n",
    "sgd_classifier_fit = sgd_classifier.fit(X, y)"
   ]
  },
  {
   "cell_type": "code",
   "execution_count": 21,
   "id": "3d6fd19b",
   "metadata": {},
   "outputs": [],
   "source": [
    "model = sgd_classifier\n",
    "k_fold = 5"
   ]
  },
  {
   "cell_type": "code",
   "execution_count": 22,
   "id": "f3205dd9",
   "metadata": {},
   "outputs": [],
   "source": [
    "predictions = cross_val_predict(model, X, y, cv=k_fold)"
   ]
  },
  {
   "cell_type": "code",
   "execution_count": 23,
   "id": "1e1f9ff8",
   "metadata": {},
   "outputs": [],
   "source": [
    "ac = cross_val_score(model, X, y, cv=k_fold, scoring='accuracy').mean()\n",
    "cm = confusion_matrix(y, predictions)\n",
    "cr = classification_report(y, predictions)"
   ]
  },
  {
   "cell_type": "code",
   "execution_count": 24,
   "id": "207d6cc2",
   "metadata": {},
   "outputs": [
    {
     "name": "stdout",
     "output_type": "stream",
     "text": [
      "Accuracy = 95.0 %\n"
     ]
    }
   ],
   "source": [
    "print(\"Accuracy =\", round(ac, 3)*100, '%')"
   ]
  },
  {
   "cell_type": "markdown",
   "id": "619a3068",
   "metadata": {},
   "source": [
    "<!-- save model -->"
   ]
  },
  {
   "cell_type": "code",
   "execution_count": 25,
   "id": "aebeed37",
   "metadata": {},
   "outputs": [],
   "source": [
    "X = data[\"text\"]"
   ]
  },
  {
   "cell_type": "code",
   "execution_count": 26,
   "id": "0aa02b90",
   "metadata": {},
   "outputs": [],
   "source": [
    "data_list = []\n",
    "\n",
    "for text in X:\n",
    "    text = re.sub(r'[!@#$(),\\n\"%^*?\\:;~`0-9]', ' ', text)\n",
    "    text = re.sub(r'[[]]', ' ', text)\n",
    "    text = text.lower()\n",
    "    data_list.append(text)"
   ]
  },
  {
   "cell_type": "code",
   "execution_count": 27,
   "id": "0328624d",
   "metadata": {},
   "outputs": [
    {
     "data": {
      "text/plain": [
       "Pipeline(steps=[('vectorizer', TfidfVectorizer()), ('sgd', SGDClassifier())])"
      ]
     },
     "execution_count": 27,
     "metadata": {},
     "output_type": "execute_result"
    }
   ],
   "source": [
    "pipe = Pipeline([('vectorizer', tfidf_vectorizer), ('sgd', sgd_classifier)])\n",
    "pipe.fit(X, y)"
   ]
  },
  {
   "cell_type": "code",
   "execution_count": 28,
   "id": "099f92a7",
   "metadata": {},
   "outputs": [],
   "source": [
    "y = pipe.predict(X)"
   ]
  },
  {
   "cell_type": "code",
   "execution_count": 30,
   "id": "6044ae34",
   "metadata": {},
   "outputs": [
    {
     "name": "stdout",
     "output_type": "stream",
     "text": [
      "Accuracy = 95.0 %\n"
     ]
    }
   ],
   "source": [
    "print(\"Accuracy =\", round(ac, 3)*100, '%')"
   ]
  },
  {
   "cell_type": "markdown",
   "id": "c2f50878",
   "metadata": {},
   "source": [
    "### Saving the ML Model (Serialization) - Imp "
   ]
  },
  {
   "cell_type": "code",
   "execution_count": null,
   "id": "e034929d-3a15-4830-8e54-faee7494d44d",
   "metadata": {},
   "outputs": [],
   "source": []
  },
  {
   "cell_type": "code",
   "execution_count": null,
   "id": "9084fd38",
   "metadata": {},
   "outputs": [],
   "source": [
    "with open('svm_model.pickle','wb') as f:\n",
    "    pickle.dump(pipe, f)"
   ]
  },
  {
   "cell_type": "markdown",
   "id": "a5e1a3af",
   "metadata": {},
   "source": [
    "### Model Inference using Serialized file"
   ]
  },
  {
   "cell_type": "code",
   "execution_count": 143,
   "id": "e980a4ca",
   "metadata": {},
   "outputs": [],
   "source": [
    "model_pk = pickle.load(open('lang_trained_pipeline.pkl','rb'))"
   ]
  },
  {
   "cell_type": "code",
   "execution_count": 144,
   "id": "53a63aea",
   "metadata": {},
   "outputs": [],
   "source": [
    "text = \"this is a message to test\"\n",
    "\n",
    "detect = model_pk.predict([text])"
   ]
  },
  {
   "cell_type": "markdown",
   "id": "112964cc",
   "metadata": {},
   "source": [
    "<!-- Please make sure the output is exactly the same format as array([0]) or array([1]) -->"
   ]
  },
  {
   "cell_type": "code",
   "execution_count": 145,
   "id": "b439102c",
   "metadata": {},
   "outputs": [
    {
     "data": {
      "text/plain": [
       "array([0])"
      ]
     },
     "execution_count": 145,
     "metadata": {},
     "output_type": "execute_result"
    }
   ],
   "source": [
    "detect"
   ]
  },
  {
   "cell_type": "code",
   "execution_count": 146,
   "id": "5475471d",
   "metadata": {},
   "outputs": [
    {
     "data": {
      "text/plain": [
       "(0, array([0]))"
      ]
     },
     "execution_count": 146,
     "metadata": {},
     "output_type": "execute_result"
    }
   ],
   "source": [
    "le.classes_[detect[0]], detect"
   ]
  }
 ],
 "metadata": {
  "kernelspec": {
   "display_name": "Python 3",
   "language": "python",
   "name": "python3"
  },
  "language_info": {
   "codemirror_mode": {
    "name": "ipython",
    "version": 3
   },
   "file_extension": ".py",
   "mimetype": "text/x-python",
   "name": "python",
   "nbconvert_exporter": "python",
   "pygments_lexer": "ipython3",
   "version": "3.8.8"
  }
 },
 "nbformat": 4,
 "nbformat_minor": 5
}
